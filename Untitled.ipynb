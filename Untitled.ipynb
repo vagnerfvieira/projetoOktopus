{
 "cells": [
  {
   "cell_type": "code",
   "execution_count": null,
   "id": "5a02dc1e-0e9e-48c0-b6bf-48b9f7ac4291",
   "metadata": {},
   "outputs": [],
   "source": [
    "import xlrd"
   ]
  },
  {
   "cell_type": "code",
   "execution_count": 1,
   "id": "8783dcf3-f041-4148-9bb5-9366d11ddf1f",
   "metadata": {},
   "outputs": [
    {
     "name": "stdout",
     "output_type": "stream",
     "text": [
      " O volume na unidade C ‚ OS\n",
      " O N£mero de S‚rie do Volume ‚ 7C75-2BE4\n",
      "\n",
      " Pasta de C:\\Users\\vagne\\OneDrive\\Ambiente de Trabalho\\dev\\projeto_oktopus\n",
      "\n",
      "10/04/2024  23:58    <DIR>          .\n",
      "10/04/2024  16:18    <DIR>          ..\n",
      "10/04/2024  23:56    <DIR>          .ipynb_checkpoints\n",
      "22/03/2024  15:10    <DIR>          accounts\n",
      "23/03/2024  19:03    <DIR>          bancos\n",
      "15/03/2024  11:21    <DIR>          clientes\n",
      "07/04/2024  14:37             2.991 comandos\n",
      "18/03/2024  10:50    <DIR>          contaFinan‡as\n",
      "10/04/2024  11:06    <DIR>          core\n",
      "07/04/2024  22:55             1.609 create_data.py\n",
      "10/04/2024  23:08           262.144 db.sqlite3\n",
      "10/04/2024  10:59    <DIR>          despesas\n",
      "19/03/2024  12:34    <DIR>          empresas\n",
      "04/04/2024  23:23    <DIR>          estoques\n",
      "17/03/2024  13:17    <DIR>          fornecedores\n",
      "07/04/2024  22:45               695 manage.py\n",
      "07/04/2024  22:41    <DIR>          myproject\n",
      "07/03/2024  22:58    <DIR>          produtos\n",
      "10/04/2024  10:37    <DIR>          projeto_oktopus\n",
      "09/04/2024  23:43    <DIR>          projetos\n",
      "23/03/2024  13:39    <DIR>          recebimentos\n",
      "10/04/2024  00:30    <DIR>          servi‡os\n",
      "22/03/2024  12:39    <DIR>          templates\n",
      "10/04/2024  23:58               645 Untitled.ipynb\n",
      "09/04/2024  23:59    <DIR>          vendas\n",
      "               5 arquivo(s)        268.084 bytes\n",
      "              20 pasta(s)   14.885.097.472 bytes dispon¡veis\n"
     ]
    }
   ],
   "source": [
    "ls"
   ]
  },
  {
   "cell_type": "code",
   "execution_count": 2,
   "id": "493ba0a6-bf5e-49ad-81e9-00fafcaf4317",
   "metadata": {},
   "outputs": [
    {
     "name": "stderr",
     "output_type": "stream",
     "text": [
      "Arquivo nÆo encontrado"
     ]
    },
    {
     "name": "stdout",
     "output_type": "stream",
     "text": [
      " O volume na unidade C ‚ OS"
     ]
    },
    {
     "name": "stderr",
     "output_type": "stream",
     "text": [
      "\n"
     ]
    },
    {
     "name": "stdout",
     "output_type": "stream",
     "text": [
      "\n",
      " O N£mero de S‚rie do Volume ‚ 7C75-2BE4\n",
      "\n",
      " Pasta de C:\\Users\\vagne\\OneDrive\\Ambiente de Trabalho\\dev\\projeto_oktopus\n",
      "\n"
     ]
    }
   ],
   "source": [
    "ls fix"
   ]
  },
  {
   "cell_type": "code",
   "execution_count": null,
   "id": "51f1cc97-4ef8-471d-9dc4-ce12c2ba048b",
   "metadata": {},
   "outputs": [],
   "source": [
    "ls fix"
   ]
  },
  {
   "cell_type": "code",
   "execution_count": 3,
   "id": "29634f79-32fe-45ca-84f5-1f4eaf908313",
   "metadata": {},
   "outputs": [
    {
     "name": "stdout",
     "output_type": "stream",
     "text": [
      " O volume na unidade C ‚ OS\n",
      " O N£mero de S‚rie do Volume ‚ 7C75-2BE4\n",
      "\n",
      " Pasta de C:\\Users\\vagne\\OneDrive\\Ambiente de Trabalho\\dev\\projeto_oktopus\\fix\n",
      "\n",
      "11/04/2024  00:04    <DIR>          .\n",
      "11/04/2024  00:04    <DIR>          ..\n",
      "               0 arquivo(s)              0 bytes\n",
      "               2 pasta(s)   14.882.013.184 bytes dispon¡veis\n"
     ]
    }
   ],
   "source": [
    "ls fix"
   ]
  },
  {
   "cell_type": "code",
   "execution_count": 4,
   "id": "d9174ef9-f7a8-4bca-b096-2cd88788b91e",
   "metadata": {},
   "outputs": [],
   "source": [
    "filename = 'fix/março24.xlsx'"
   ]
  },
  {
   "cell_type": "code",
   "execution_count": 6,
   "id": "8a5b9cb2-0d6f-46aa-b094-ed7627de9e31",
   "metadata": {},
   "outputs": [
    {
     "ename": "NameError",
     "evalue": "name 'xlrd' is not defined",
     "output_type": "error",
     "traceback": [
      "\u001b[1;31m---------------------------------------------------------------------------\u001b[0m",
      "\u001b[1;31mNameError\u001b[0m                                 Traceback (most recent call last)",
      "Cell \u001b[1;32mIn[6], line 1\u001b[0m\n\u001b[1;32m----> 1\u001b[0m workbook \u001b[38;5;241m=\u001b[39m \u001b[43mxlrd\u001b[49m\u001b[38;5;241m.\u001b[39mopen_workbook(filename)\n\u001b[0;32m      2\u001b[0m sheet \u001b[38;5;241m=\u001b[39m worbook\u001b[38;5;241m.\u001b[39msheet_by_index(\u001b[38;5;241m0\u001b[39m)\n",
      "\u001b[1;31mNameError\u001b[0m: name 'xlrd' is not defined"
     ]
    }
   ],
   "source": [
    "workbook = xlrd.open_workbook(filename)\n",
    "sheet = worbook.sheet_by_index(0)"
   ]
  },
  {
   "cell_type": "code",
   "execution_count": 7,
   "id": "d34598fb-ce94-40ce-8e71-89c25b30e200",
   "metadata": {},
   "outputs": [
    {
     "ename": "NameError",
     "evalue": "name 'pd' is not defined",
     "output_type": "error",
     "traceback": [
      "\u001b[1;31m---------------------------------------------------------------------------\u001b[0m",
      "\u001b[1;31mNameError\u001b[0m                                 Traceback (most recent call last)",
      "Cell \u001b[1;32mIn[7], line 1\u001b[0m\n\u001b[1;32m----> 1\u001b[0m df \u001b[38;5;241m=\u001b[39m \u001b[43mpd\u001b[49m\u001b[38;5;241m.\u001b[39mread_excel(\u001b[38;5;124m\"\u001b[39m\u001b[38;5;124mFile.xlsx\u001b[39m\u001b[38;5;124m\"\u001b[39m, \u001b[38;5;124m\"\u001b[39m\u001b[38;5;124mSheet1\u001b[39m\u001b[38;5;124m\"\u001b[39m)\n\u001b[0;32m      2\u001b[0m \u001b[38;5;28mprint\u001b[39m (df)\n",
      "\u001b[1;31mNameError\u001b[0m: name 'pd' is not defined"
     ]
    }
   ],
   "source": [
    "df = pd.read_excel(\"File.xlsx\", \"Sheet1\")\n",
    "print (df)"
   ]
  },
  {
   "cell_type": "code",
   "execution_count": null,
   "id": "55623a83-1e53-49ff-8e9a-002bccca8b48",
   "metadata": {},
   "outputs": [],
   "source": []
  }
 ],
 "metadata": {
  "kernelspec": {
   "display_name": "Django Shell-Plus",
   "language": "python",
   "name": "django_extensions"
  },
  "language_info": {
   "codemirror_mode": {
    "name": "ipython",
    "version": 3
   },
   "file_extension": ".py",
   "mimetype": "text/x-python",
   "name": "python",
   "nbconvert_exporter": "python",
   "pygments_lexer": "ipython3",
   "version": "3.9.0"
  }
 },
 "nbformat": 4,
 "nbformat_minor": 5
}
